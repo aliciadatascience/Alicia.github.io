{
 "cells": [
  {
   "cell_type": "markdown",
   "metadata": {},
   "source": [
    "# Application of A/B testing\n",
    "# Project: Pricing Test --- Should the Company Increase Price?"
   ]
  },
  {
   "cell_type": "markdown",
   "metadata": {},
   "source": [
    "## Key Words: **A/B testing, Sanity Check, t-test, P-value, Chi2-test, Decision Tree**"
   ]
  },
  {
   "cell_type": "markdown",
   "metadata": {},
   "source": [
    "## **Background:**\n",
    "\n",
    "Often company need to run test to decide if incresing price would increase revenue. Herein, this project is to evaluate whether a pricing test running on the site has been successful( changing the price from 39 to 59). In the experiment, 66% of the users have seen the old price, while a random sample of 33% users a higher price. I will focus on user segmentation and provided insights about segments who behave differently. \n",
    "\n",
    "Two questions can be solved here:\n",
    "\n",
    "\n",
    "**Question 1: Should the company sell its products for previous or higher price?**\n",
    "\n",
    "\n",
    "**Question 2: Is there any actionalbe insights that might increase conversion rate?**"
   ]
  },
  {
   "cell_type": "code",
   "execution_count": 2,
   "metadata": {},
   "outputs": [
    {
     "data": {
      "text/plain": [
       "<Figure size 432x288 with 0 Axes>"
      ]
     },
     "metadata": {},
     "output_type": "display_data"
    }
   ],
   "source": [
    "import numpy as np\n",
    "import pandas as pd\n",
    "import matplotlib.pyplot as plt\n",
    "import seaborn as sns\n",
    "\n",
    "import scipy.stats as ss\n",
    "from sklearn.preprocessing import LabelEncoder\n",
    "from sklearn.feature_selection import chi2\n",
    "from sklearn import tree\n",
    "from sklearn.tree import DecisionTreeClassifier\n",
    "import graphviz\n",
    "\n",
    "%matplotlib inline\n",
    "plt.tight_layout()"
   ]
  },
  {
   "cell_type": "markdown",
   "metadata": {},
   "source": [
    "## Table of Contents\n",
    "  1. [Understand Problem & Objectives](#understand)\n",
    "  \n",
    "  2. [Design Experiment](#design)\n",
    "  \n",
    "  3. [Implement](#implement)     \n",
    "  3.1 [Data Preparation](#datap)  \n",
    "  3.2 [Data Exploration](#datae)        \n",
    "        [Check Test/Control Ratio](#checkt)        \n",
    "        [Check for mixed assignment](#checkf)        \n",
    "        [Sanity Check](#sanity)\n",
    "        \n",
    "  4. [Question 1](#question1)  \n",
    "  \n",
    "  5. [Question 2](#question2)      \n",
    "  [Chi-Square Test](#ctest)  \n",
    "  [Decision Tree](#model)\n",
    "  [Actionable Insights](#act)  "
   ]
  },
  {
   "cell_type": "markdown",
   "metadata": {},
   "source": [
    "<a id='understand'></a>\n",
    "## Understand Problem & Objectives:\n",
    "**Change:** Change the price from 39 to 59\n",
    "\n",
    "**Goal:** increase revenue"
   ]
  },
  {
   "cell_type": "markdown",
   "metadata": {},
   "source": [
    "<a id='design'></a>\n",
    "## Design Experiment\n",
    "**Choose Metrics:**\n",
    "\n",
    "Since the goal is to improve revenue, choose revenue as metrics. Then I will use **A/B testing** to investigate if the increase of price will lead to more revenue.\n",
    "\n",
    "**Statistics Hypothesis:**\n",
    "\n",
    "H0: test group's average revenue = control group's average revenue;\n",
    "    \n",
    "HA: test group's average revenue > control group's average revenue"
   ]
  },
  {
   "cell_type": "markdown",
   "metadata": {},
   "source": [
    "<a id='implement'></a>\n",
    "## Implement\n",
    "<a id='datap'></a>\n",
    "### Data Preparation"
   ]
  },
  {
   "cell_type": "code",
   "execution_count": 3,
   "metadata": {},
   "outputs": [
    {
     "data": {
      "text/html": [
       "<div>\n",
       "<style scoped>\n",
       "    .dataframe tbody tr th:only-of-type {\n",
       "        vertical-align: middle;\n",
       "    }\n",
       "\n",
       "    .dataframe tbody tr th {\n",
       "        vertical-align: top;\n",
       "    }\n",
       "\n",
       "    .dataframe thead th {\n",
       "        text-align: right;\n",
       "    }\n",
       "</style>\n",
       "<table border=\"1\" class=\"dataframe\">\n",
       "  <thead>\n",
       "    <tr style=\"text-align: right;\">\n",
       "      <th></th>\n",
       "      <th>user_id</th>\n",
       "      <th>timestamp</th>\n",
       "      <th>source</th>\n",
       "      <th>device</th>\n",
       "      <th>operative_system</th>\n",
       "      <th>test</th>\n",
       "      <th>price</th>\n",
       "      <th>converted</th>\n",
       "    </tr>\n",
       "  </thead>\n",
       "  <tbody>\n",
       "    <tr>\n",
       "      <th>0</th>\n",
       "      <td>604839</td>\n",
       "      <td>2015-05-08 03:38:34</td>\n",
       "      <td>ads_facebook</td>\n",
       "      <td>mobile</td>\n",
       "      <td>iOS</td>\n",
       "      <td>0</td>\n",
       "      <td>39</td>\n",
       "      <td>0</td>\n",
       "    </tr>\n",
       "    <tr>\n",
       "      <th>1</th>\n",
       "      <td>624057</td>\n",
       "      <td>2015-05-10 21:08:46</td>\n",
       "      <td>seo-google</td>\n",
       "      <td>mobile</td>\n",
       "      <td>android</td>\n",
       "      <td>0</td>\n",
       "      <td>39</td>\n",
       "      <td>0</td>\n",
       "    </tr>\n",
       "    <tr>\n",
       "      <th>2</th>\n",
       "      <td>317970</td>\n",
       "      <td>2015-04-04 15:01:23</td>\n",
       "      <td>ads-bing</td>\n",
       "      <td>mobile</td>\n",
       "      <td>android</td>\n",
       "      <td>0</td>\n",
       "      <td>39</td>\n",
       "      <td>0</td>\n",
       "    </tr>\n",
       "    <tr>\n",
       "      <th>3</th>\n",
       "      <td>685636</td>\n",
       "      <td>2015-05-07 07:26:01</td>\n",
       "      <td>direct_traffic</td>\n",
       "      <td>mobile</td>\n",
       "      <td>iOS</td>\n",
       "      <td>1</td>\n",
       "      <td>59</td>\n",
       "      <td>0</td>\n",
       "    </tr>\n",
       "    <tr>\n",
       "      <th>4</th>\n",
       "      <td>820854</td>\n",
       "      <td>2015-05-24 11:04:40</td>\n",
       "      <td>ads_facebook</td>\n",
       "      <td>web</td>\n",
       "      <td>mac</td>\n",
       "      <td>0</td>\n",
       "      <td>39</td>\n",
       "      <td>0</td>\n",
       "    </tr>\n",
       "  </tbody>\n",
       "</table>\n",
       "</div>"
      ],
      "text/plain": [
       "   user_id            timestamp          source  device operative_system  \\\n",
       "0   604839  2015-05-08 03:38:34    ads_facebook  mobile              iOS   \n",
       "1   624057  2015-05-10 21:08:46      seo-google  mobile          android   \n",
       "2   317970  2015-04-04 15:01:23        ads-bing  mobile          android   \n",
       "3   685636  2015-05-07 07:26:01  direct_traffic  mobile              iOS   \n",
       "4   820854  2015-05-24 11:04:40    ads_facebook     web              mac   \n",
       "\n",
       "   test  price  converted  \n",
       "0     0     39          0  \n",
       "1     0     39          0  \n",
       "2     0     39          0  \n",
       "3     1     59          0  \n",
       "4     0     39          0  "
      ]
     },
     "execution_count": 3,
     "metadata": {},
     "output_type": "execute_result"
    }
   ],
   "source": [
    "# read \"test\" table and use the user_id as index\n",
    "test = pd.read_csv('C:/Users/xiaoj/Desktop/CS/collection of data science-take home challenges/Data/6. Pricing_Test/test_results.csv')\n",
    "test.head()"
   ]
  },
  {
   "cell_type": "code",
   "execution_count": 5,
   "metadata": {},
   "outputs": [
    {
     "name": "stdout",
     "output_type": "stream",
     "text": [
      "<class 'pandas.core.frame.DataFrame'>\n",
      "RangeIndex: 316800 entries, 0 to 316799\n",
      "Data columns (total 8 columns):\n",
      " #   Column            Non-Null Count   Dtype \n",
      "---  ------            --------------   ----- \n",
      " 0   user_id           316800 non-null  int64 \n",
      " 1   timestamp         316800 non-null  object\n",
      " 2   source            316800 non-null  object\n",
      " 3   device            316800 non-null  object\n",
      " 4   operative_system  316800 non-null  object\n",
      " 5   test              316800 non-null  int64 \n",
      " 6   price             316800 non-null  int64 \n",
      " 7   converted         316800 non-null  int64 \n",
      "dtypes: int64(4), object(4)\n",
      "memory usage: 19.3+ MB\n"
     ]
    }
   ],
   "source": [
    "# Check the basic information: data type, null values\n",
    "test.info()"
   ]
  },
  {
   "cell_type": "markdown",
   "metadata": {},
   "source": [
    "<a id='datae'></a>\n",
    "### Data Exploration\n",
    "<a id='checkt'></a>\n",
    "#### Check Test / Control Ratio\n",
    "\n",
    "I will firstly check if the ratio of test/control matched the description. Herein, 66% of the users have seen the old price, while a random sample of 33% users a higher price. Therefore, the ratio should be about 2."
   ]
  },
  {
   "cell_type": "code",
   "execution_count": 8,
   "metadata": {},
   "outputs": [
    {
     "data": {
      "text/plain": [
       "test\n",
       "0    202727\n",
       "1    114073\n",
       "Name: user_id, dtype: int64"
      ]
     },
     "execution_count": 8,
     "metadata": {},
     "output_type": "execute_result"
    }
   ],
   "source": [
    "test.groupby('test')['user_id'].count()"
   ]
  },
  {
   "cell_type": "markdown",
   "metadata": {},
   "source": [
    "It can be found that the ratio of test/control roughly matched the description."
   ]
  },
  {
   "cell_type": "markdown",
   "metadata": {},
   "source": [
    "<a id='checkf'></a>\n",
    "#### Check for mixed assignment"
   ]
  },
  {
   "cell_type": "code",
   "execution_count": 10,
   "metadata": {},
   "outputs": [
    {
     "data": {
      "text/plain": [
       "test  price\n",
       "0     39       202517\n",
       "      59          210\n",
       "1     39          155\n",
       "      59       113918\n",
       "Name: user_id, dtype: int64"
      ]
     },
     "execution_count": 10,
     "metadata": {},
     "output_type": "execute_result"
    }
   ],
   "source": [
    "# check if there are sampling bias problem\n",
    "test.groupby(['test','price'])['user_id'].count()"
   ]
  },
  {
   "cell_type": "markdown",
   "metadata": {},
   "source": [
    "It can be seen that in control some users can see price 59, while in test some users still see the old price. So, assignment has mixed, since the mixed samples is small, I will remove them."
   ]
  },
  {
   "cell_type": "code",
   "execution_count": 11,
   "metadata": {},
   "outputs": [],
   "source": [
    "# remove the unvalid data and only keep the valid data\n",
    "test = test[((test['test'] == 0) & (test['price'] == 39)) | ((test['test'] == 1) & (test['price'] == 59))]"
   ]
  },
  {
   "cell_type": "markdown",
   "metadata": {},
   "source": [
    "<a id='sanity'></a>\n",
    "#### Sanity Check\n",
    "The key assumptions for testing are 1) The factor to test is the only reason for difference; 2) A unit been assigned to A or B is random; 3) Each experiment unit are independent. To verify the assumptions, I will do sanity check."
   ]
  },
  {
   "cell_type": "code",
   "execution_count": 14,
   "metadata": {},
   "outputs": [
    {
     "data": {
      "text/html": [
       "<div>\n",
       "<style scoped>\n",
       "    .dataframe tbody tr th:only-of-type {\n",
       "        vertical-align: middle;\n",
       "    }\n",
       "\n",
       "    .dataframe tbody tr th {\n",
       "        vertical-align: top;\n",
       "    }\n",
       "\n",
       "    .dataframe thead th {\n",
       "        text-align: right;\n",
       "    }\n",
       "</style>\n",
       "<table border=\"1\" class=\"dataframe\">\n",
       "  <thead>\n",
       "    <tr style=\"text-align: right;\">\n",
       "      <th></th>\n",
       "      <th>user_id</th>\n",
       "      <th>timestamp</th>\n",
       "      <th>source</th>\n",
       "      <th>device</th>\n",
       "      <th>operative_system</th>\n",
       "      <th>test</th>\n",
       "      <th>price</th>\n",
       "      <th>converted</th>\n",
       "    </tr>\n",
       "  </thead>\n",
       "  <tbody>\n",
       "    <tr>\n",
       "      <th>0</th>\n",
       "      <td>604839</td>\n",
       "      <td>2015-05-08 03:38:34</td>\n",
       "      <td>3</td>\n",
       "      <td>0</td>\n",
       "      <td>1</td>\n",
       "      <td>0</td>\n",
       "      <td>39</td>\n",
       "      <td>0</td>\n",
       "    </tr>\n",
       "    <tr>\n",
       "      <th>1</th>\n",
       "      <td>624057</td>\n",
       "      <td>2015-05-10 21:08:46</td>\n",
       "      <td>8</td>\n",
       "      <td>0</td>\n",
       "      <td>0</td>\n",
       "      <td>0</td>\n",
       "      <td>39</td>\n",
       "      <td>0</td>\n",
       "    </tr>\n",
       "    <tr>\n",
       "      <th>2</th>\n",
       "      <td>317970</td>\n",
       "      <td>2015-04-04 15:01:23</td>\n",
       "      <td>0</td>\n",
       "      <td>0</td>\n",
       "      <td>0</td>\n",
       "      <td>0</td>\n",
       "      <td>39</td>\n",
       "      <td>0</td>\n",
       "    </tr>\n",
       "    <tr>\n",
       "      <th>3</th>\n",
       "      <td>685636</td>\n",
       "      <td>2015-05-07 07:26:01</td>\n",
       "      <td>5</td>\n",
       "      <td>0</td>\n",
       "      <td>1</td>\n",
       "      <td>1</td>\n",
       "      <td>59</td>\n",
       "      <td>0</td>\n",
       "    </tr>\n",
       "    <tr>\n",
       "      <th>4</th>\n",
       "      <td>820854</td>\n",
       "      <td>2015-05-24 11:04:40</td>\n",
       "      <td>3</td>\n",
       "      <td>1</td>\n",
       "      <td>3</td>\n",
       "      <td>0</td>\n",
       "      <td>39</td>\n",
       "      <td>0</td>\n",
       "    </tr>\n",
       "  </tbody>\n",
       "</table>\n",
       "</div>"
      ],
      "text/plain": [
       "   user_id            timestamp  source  device  operative_system  test  \\\n",
       "0   604839  2015-05-08 03:38:34       3       0                 1     0   \n",
       "1   624057  2015-05-10 21:08:46       8       0                 0     0   \n",
       "2   317970  2015-04-04 15:01:23       0       0                 0     0   \n",
       "3   685636  2015-05-07 07:26:01       5       0                 1     1   \n",
       "4   820854  2015-05-24 11:04:40       3       1                 3     0   \n",
       "\n",
       "   price  converted  \n",
       "0     39          0  \n",
       "1     39          0  \n",
       "2     39          0  \n",
       "3     59          0  \n",
       "4     39          0  "
      ]
     },
     "execution_count": 14,
     "metadata": {},
     "output_type": "execute_result"
    }
   ],
   "source": [
    "# Transfer the categorical columns to be numbers\n",
    "test1 = test.copy()\n",
    "test1['source']=LabelEncoder().fit_transform(test1['source'])\n",
    "test1['device']=LabelEncoder().fit_transform(test1['device'])\n",
    "test1['operative_system']=LabelEncoder().fit_transform(test1['operative_system'])\n",
    "test1.head()"
   ]
  },
  {
   "cell_type": "markdown",
   "metadata": {},
   "source": [
    "After transfering categorical fields to be numerical, I need to check the relationship between the categorical with the 'test'. That is to say to check if these fields has some relationship with the test chosen. I will  run Chi2 test to see if these categorical fields have effects on splitting between control and test groups."
   ]
  },
  {
   "cell_type": "code",
   "execution_count": 18,
   "metadata": {},
   "outputs": [
    {
     "data": {
      "text/html": [
       "<div>\n",
       "<style scoped>\n",
       "    .dataframe tbody tr th:only-of-type {\n",
       "        vertical-align: middle;\n",
       "    }\n",
       "\n",
       "    .dataframe tbody tr th {\n",
       "        vertical-align: top;\n",
       "    }\n",
       "\n",
       "    .dataframe thead th {\n",
       "        text-align: right;\n",
       "    }\n",
       "</style>\n",
       "<table border=\"1\" class=\"dataframe\">\n",
       "  <thead>\n",
       "    <tr style=\"text-align: right;\">\n",
       "      <th></th>\n",
       "      <th>chi2_value</th>\n",
       "      <th>pvalue</th>\n",
       "    </tr>\n",
       "  </thead>\n",
       "  <tbody>\n",
       "    <tr>\n",
       "      <th>operative_system</th>\n",
       "      <td>83.937937</td>\n",
       "      <td>5.105534e-20</td>\n",
       "    </tr>\n",
       "    <tr>\n",
       "      <th>device</th>\n",
       "      <td>44.785346</td>\n",
       "      <td>2.198620e-11</td>\n",
       "    </tr>\n",
       "    <tr>\n",
       "      <th>source</th>\n",
       "      <td>0.918060</td>\n",
       "      <td>3.379849e-01</td>\n",
       "    </tr>\n",
       "  </tbody>\n",
       "</table>\n",
       "</div>"
      ],
      "text/plain": [
       "                  chi2_value        pvalue\n",
       "operative_system   83.937937  5.105534e-20\n",
       "device             44.785346  2.198620e-11\n",
       "source              0.918060  3.379849e-01"
      ]
     },
     "execution_count": 18,
     "metadata": {},
     "output_type": "execute_result"
    }
   ],
   "source": [
    "# Choose categorical fields and run chi2 test\n",
    "columns = ['source','device','operative_system']\n",
    "ch2values,pvalues = chi2(test1[columns],test1[\"test\"])\n",
    "pd.DataFrame({'chi2_value':ch2values,'pvalue':pvalues},index = columns).sort_values(by='pvalue')"
   ]
  },
  {
   "cell_type": "markdown",
   "metadata": {},
   "source": [
    "From above result, it can be known that \"both operative_system\" and \"device\" has some relationship with test, which means they are not independent.Operative system and device do has some impact on the splitting. \n",
    "\n",
    "Let's further explore which part of the operative system and device didn't obey the rules."
   ]
  },
  {
   "cell_type": "code",
   "execution_count": 21,
   "metadata": {},
   "outputs": [],
   "source": [
    "# define the function to check the percentage of each components\n",
    "def dis_ratios(data):\n",
    "    return data.value_counts(normalize = True)"
   ]
  },
  {
   "cell_type": "code",
   "execution_count": 20,
   "metadata": {},
   "outputs": [
    {
     "data": {
      "text/html": [
       "<div>\n",
       "<style scoped>\n",
       "    .dataframe tbody tr th:only-of-type {\n",
       "        vertical-align: middle;\n",
       "    }\n",
       "\n",
       "    .dataframe tbody tr th {\n",
       "        vertical-align: top;\n",
       "    }\n",
       "\n",
       "    .dataframe thead th {\n",
       "        text-align: right;\n",
       "    }\n",
       "</style>\n",
       "<table border=\"1\" class=\"dataframe\">\n",
       "  <thead>\n",
       "    <tr style=\"text-align: right;\">\n",
       "      <th></th>\n",
       "      <th>0</th>\n",
       "      <th>1</th>\n",
       "    </tr>\n",
       "    <tr>\n",
       "      <th>operative_system</th>\n",
       "      <th></th>\n",
       "      <th></th>\n",
       "    </tr>\n",
       "  </thead>\n",
       "  <tbody>\n",
       "    <tr>\n",
       "      <th>android</th>\n",
       "      <td>0.643475</td>\n",
       "      <td>0.356525</td>\n",
       "    </tr>\n",
       "    <tr>\n",
       "      <th>iOS</th>\n",
       "      <td>0.648045</td>\n",
       "      <td>0.351955</td>\n",
       "    </tr>\n",
       "    <tr>\n",
       "      <th>linux</th>\n",
       "      <td>0.533656</td>\n",
       "      <td>0.466344</td>\n",
       "    </tr>\n",
       "    <tr>\n",
       "      <th>mac</th>\n",
       "      <td>0.652365</td>\n",
       "      <td>0.347635</td>\n",
       "    </tr>\n",
       "    <tr>\n",
       "      <th>other</th>\n",
       "      <td>0.647895</td>\n",
       "      <td>0.352105</td>\n",
       "    </tr>\n",
       "    <tr>\n",
       "      <th>windows</th>\n",
       "      <td>0.629817</td>\n",
       "      <td>0.370183</td>\n",
       "    </tr>\n",
       "  </tbody>\n",
       "</table>\n",
       "</div>"
      ],
      "text/plain": [
       "                         0         1\n",
       "operative_system                    \n",
       "android           0.643475  0.356525\n",
       "iOS               0.648045  0.351955\n",
       "linux             0.533656  0.466344\n",
       "mac               0.652365  0.347635\n",
       "other             0.647895  0.352105\n",
       "windows           0.629817  0.370183"
      ]
     },
     "execution_count": 20,
     "metadata": {},
     "output_type": "execute_result"
    }
   ],
   "source": [
    "# Check the operative-system \n",
    "os_test = test.groupby('operative_system')['test'].apply(dis_ratios).unstack()\n",
    "os_test"
   ]
  },
  {
   "cell_type": "code",
   "execution_count": 21,
   "metadata": {},
   "outputs": [
    {
     "data": {
      "text/plain": [
       "<matplotlib.axes._subplots.AxesSubplot at 0x27b220e42b0>"
      ]
     },
     "execution_count": 21,
     "metadata": {},
     "output_type": "execute_result"
    },
    {
     "data": {
      "image/png": "[encoded data removed]",
      "text/plain": [
       "<Figure size 576x288 with 1 Axes>"
      ]
     },
     "metadata": {
      "needs_background": "light"
     },
     "output_type": "display_data"
    }
   ],
   "source": [
    "# visualize the relationship beteen detailed operative system and their ratios in test/control\n",
    "os_test.plot(kind = 'bar',figsize=(8,4))"
   ]
  },
  {
   "cell_type": "markdown",
   "metadata": {},
   "source": [
    "It is very clearly that \"Linux\" is abnormal since the experimental claim that 66% of the users saw the 39, while a random sample of 33% users use the 59, but clients using linux don't obey this rule.(nearly 53% go to control group, while 47% go to test group)."
   ]
  },
  {
   "cell_type": "code",
   "execution_count": 22,
   "metadata": {},
   "outputs": [
    {
     "data": {
      "text/html": [
       "<div>\n",
       "<style scoped>\n",
       "    .dataframe tbody tr th:only-of-type {\n",
       "        vertical-align: middle;\n",
       "    }\n",
       "\n",
       "    .dataframe tbody tr th {\n",
       "        vertical-align: top;\n",
       "    }\n",
       "\n",
       "    .dataframe thead th {\n",
       "        text-align: right;\n",
       "    }\n",
       "</style>\n",
       "<table border=\"1\" class=\"dataframe\">\n",
       "  <thead>\n",
       "    <tr style=\"text-align: right;\">\n",
       "      <th></th>\n",
       "      <th>0</th>\n",
       "      <th>1</th>\n",
       "    </tr>\n",
       "    <tr>\n",
       "      <th>device</th>\n",
       "      <th></th>\n",
       "      <th></th>\n",
       "    </tr>\n",
       "  </thead>\n",
       "  <tbody>\n",
       "    <tr>\n",
       "      <th>mobile</th>\n",
       "      <td>0.646218</td>\n",
       "      <td>0.353782</td>\n",
       "    </tr>\n",
       "    <tr>\n",
       "      <th>web</th>\n",
       "      <td>0.631092</td>\n",
       "      <td>0.368908</td>\n",
       "    </tr>\n",
       "  </tbody>\n",
       "</table>\n",
       "</div>"
      ],
      "text/plain": [
       "               0         1\n",
       "device                    \n",
       "mobile  0.646218  0.353782\n",
       "web     0.631092  0.368908"
      ]
     },
     "execution_count": 22,
     "metadata": {},
     "output_type": "execute_result"
    }
   ],
   "source": [
    "# check how the \"device\" infulence the test/control experiment\n",
    "de_test = test.groupby('device')['test'].apply(dis_ratios).unstack()\n",
    "de_test"
   ]
  },
  {
   "cell_type": "code",
   "execution_count": 23,
   "metadata": {},
   "outputs": [
    {
     "data": {
      "text/plain": [
       "<matplotlib.axes._subplots.AxesSubplot at 0x27b27f17760>"
      ]
     },
     "execution_count": 23,
     "metadata": {},
     "output_type": "execute_result"
    },
    {
     "data": {
      "image/png": "[encoded data removed]",
      "text/plain": [
       "<Figure size 432x288 with 1 Axes>"
      ]
     },
     "metadata": {
      "needs_background": "light"
     },
     "output_type": "display_data"
    }
   ],
   "source": [
    "# visulaize the rationship between different device and their ratios in test/control\n",
    "de_test.plot(kind = 'bar')"
   ]
  },
  {
   "cell_type": "markdown",
   "metadata": {},
   "source": [
    "It can been seen from the above device barplot that the ratio between test and control in diferent devices are a little different so that can be ignored. The reason why this has been listed as a higher chi2 values in chi2 test maybe because chi2 test is sensitive to sample size and when sample size is very large, small difference will appear statistically significant.However, after the further analysis, the effect of 'device' on the test/control splitting can be ignored."
   ]
  },
  {
   "cell_type": "markdown",
   "metadata": {},
   "source": [
    "<a id='question1'></a>\n",
    "## Question 1"
   ]
  },
  {
   "cell_type": "markdown",
   "metadata": {},
   "source": [
    "Should the company sell its software for 39 or 59?\n",
    "\n",
    "\n",
    "To answer this question, I need to firstly check the averaged revenue, then run **t-test** to check **p-value**."
   ]
  },
  {
   "cell_type": "code",
   "execution_count": 24,
   "metadata": {},
   "outputs": [
    {
     "data": {
      "text/html": [
       "<div>\n",
       "<style scoped>\n",
       "    .dataframe tbody tr th:only-of-type {\n",
       "        vertical-align: middle;\n",
       "    }\n",
       "\n",
       "    .dataframe tbody tr th {\n",
       "        vertical-align: top;\n",
       "    }\n",
       "\n",
       "    .dataframe thead th {\n",
       "        text-align: right;\n",
       "    }\n",
       "</style>\n",
       "<table border=\"1\" class=\"dataframe\">\n",
       "  <thead>\n",
       "    <tr style=\"text-align: right;\">\n",
       "      <th></th>\n",
       "      <th>convert_rate</th>\n",
       "      <th>total_revenue</th>\n",
       "      <th>average_revenue</th>\n",
       "    </tr>\n",
       "    <tr>\n",
       "      <th>test</th>\n",
       "      <th></th>\n",
       "      <th></th>\n",
       "      <th></th>\n",
       "    </tr>\n",
       "  </thead>\n",
       "  <tbody>\n",
       "    <tr>\n",
       "      <th>0</th>\n",
       "      <td>0.019900</td>\n",
       "      <td>157170</td>\n",
       "      <td>0.776083</td>\n",
       "    </tr>\n",
       "    <tr>\n",
       "      <th>1</th>\n",
       "      <td>0.015555</td>\n",
       "      <td>104548</td>\n",
       "      <td>0.917748</td>\n",
       "    </tr>\n",
       "  </tbody>\n",
       "</table>\n",
       "</div>"
      ],
      "text/plain": [
       "      convert_rate  total_revenue  average_revenue\n",
       "test                                              \n",
       "0         0.019900         157170         0.776083\n",
       "1         0.015555         104548         0.917748"
      ]
     },
     "execution_count": 24,
     "metadata": {},
     "output_type": "execute_result"
    }
   ],
   "source": [
    "# check the convert rate and average revenue for 39 and 59\n",
    "test['revenue'] = test['price'] * test['converted']\n",
    "\n",
    "summary = pd.DataFrame({'convert_rate': test.groupby('test')['converted'].mean(),\n",
    "                         'total_revenue': test.groupby('test')['revenue'].sum(),\n",
    "                         'average_revenue': test.groupby('test')['revenue'].mean()})\n",
    "summary"
   ]
  },
  {
   "cell_type": "code",
   "execution_count": 71,
   "metadata": {},
   "outputs": [
    {
     "data": {
      "text/plain": [
       "5.486288656210391e-09"
      ]
     },
     "execution_count": 71,
     "metadata": {},
     "output_type": "execute_result"
    }
   ],
   "source": [
    "# calculate the p_value of t-test\n",
    "a = test[test['test']==0]['revenue']\n",
    "b = test[test['test']==1]['revenue']\n",
    "t_test_result = ss.ttest_ind(a, b,equal_var = False)\n",
    "\n",
    "# ttest_ind is a two tailed, \n",
    "# since the HA is test average revenue > control average revenue\n",
    "# its pvalues should be divided by 2\n",
    "p_value = t_test_result.pvalue/2\n",
    "p_value"
   ]
  },
  {
   "cell_type": "markdown",
   "metadata": {},
   "source": [
    "**Answer to Q1:**\n",
    "\n",
    "Since the p-value is much smaller than 0.05, so H0 can be safely rejected and HA can be accepted, which means the test groups'average revenue is significantly higher than the control groups'.\n",
    "\n",
    "However, as shown before, the operative system distribution in the test and control groups are not the same, so price isn't the only difference between these two groups, the higher average revenue can't be only contributed to price.\n",
    "\n",
    "Based on the current experiment, I can't answer which price the company should choose, and I would suggest firstly find the reason why linux users have different ratio in control/test, then modify the experiment and make sure the user are randomly chosen, then rerun the experiment.Then the conclusion can be accurately made."
   ]
  },
  {
   "cell_type": "markdown",
   "metadata": {},
   "source": [
    "<a id='question2'></a>\n",
    "## Question 2\n",
    "Are there any actionable insights that might increase conversion rate? "
   ]
  },
  {
   "cell_type": "code",
   "execution_count": 49,
   "metadata": {},
   "outputs": [],
   "source": [
    "# transfer the price into numerical features\n",
    "test1['price']= (test1['price']== 39).astype(np.int)"
   ]
  },
  {
   "cell_type": "code",
   "execution_count": 52,
   "metadata": {},
   "outputs": [
    {
     "data": {
      "text/html": [
       "<div>\n",
       "<style scoped>\n",
       "    .dataframe tbody tr th:only-of-type {\n",
       "        vertical-align: middle;\n",
       "    }\n",
       "\n",
       "    .dataframe tbody tr th {\n",
       "        vertical-align: top;\n",
       "    }\n",
       "\n",
       "    .dataframe thead th {\n",
       "        text-align: right;\n",
       "    }\n",
       "</style>\n",
       "<table border=\"1\" class=\"dataframe\">\n",
       "  <thead>\n",
       "    <tr style=\"text-align: right;\">\n",
       "      <th></th>\n",
       "      <th>user_id</th>\n",
       "      <th>source</th>\n",
       "      <th>device</th>\n",
       "      <th>operative_system</th>\n",
       "      <th>test</th>\n",
       "      <th>price</th>\n",
       "      <th>converted</th>\n",
       "      <th>revenue</th>\n",
       "    </tr>\n",
       "  </thead>\n",
       "  <tbody>\n",
       "    <tr>\n",
       "      <th>0</th>\n",
       "      <td>604839</td>\n",
       "      <td>3</td>\n",
       "      <td>0</td>\n",
       "      <td>1</td>\n",
       "      <td>0</td>\n",
       "      <td>1</td>\n",
       "      <td>0</td>\n",
       "      <td>0</td>\n",
       "    </tr>\n",
       "    <tr>\n",
       "      <th>1</th>\n",
       "      <td>624057</td>\n",
       "      <td>8</td>\n",
       "      <td>0</td>\n",
       "      <td>0</td>\n",
       "      <td>0</td>\n",
       "      <td>1</td>\n",
       "      <td>0</td>\n",
       "      <td>0</td>\n",
       "    </tr>\n",
       "    <tr>\n",
       "      <th>2</th>\n",
       "      <td>317970</td>\n",
       "      <td>0</td>\n",
       "      <td>0</td>\n",
       "      <td>0</td>\n",
       "      <td>0</td>\n",
       "      <td>1</td>\n",
       "      <td>0</td>\n",
       "      <td>0</td>\n",
       "    </tr>\n",
       "    <tr>\n",
       "      <th>3</th>\n",
       "      <td>685636</td>\n",
       "      <td>5</td>\n",
       "      <td>0</td>\n",
       "      <td>1</td>\n",
       "      <td>1</td>\n",
       "      <td>0</td>\n",
       "      <td>0</td>\n",
       "      <td>0</td>\n",
       "    </tr>\n",
       "    <tr>\n",
       "      <th>4</th>\n",
       "      <td>820854</td>\n",
       "      <td>3</td>\n",
       "      <td>1</td>\n",
       "      <td>3</td>\n",
       "      <td>0</td>\n",
       "      <td>1</td>\n",
       "      <td>0</td>\n",
       "      <td>0</td>\n",
       "    </tr>\n",
       "  </tbody>\n",
       "</table>\n",
       "</div>"
      ],
      "text/plain": [
       "   user_id  source  device  operative_system  test  price  converted  revenue\n",
       "0   604839       3       0                 1     0      1          0        0\n",
       "1   624057       8       0                 0     0      1          0        0\n",
       "2   317970       0       0                 0     0      1          0        0\n",
       "3   685636       5       0                 1     1      0          0        0\n",
       "4   820854       3       1                 3     0      1          0        0"
      ]
     },
     "execution_count": 52,
     "metadata": {},
     "output_type": "execute_result"
    }
   ],
   "source": [
    "test1.head()"
   ]
  },
  {
   "cell_type": "markdown",
   "metadata": {},
   "source": [
    "<a id='ctest'></a>\n",
    "### Chi-Square test"
   ]
  },
  {
   "cell_type": "code",
   "execution_count": 53,
   "metadata": {},
   "outputs": [
    {
     "data": {
      "text/html": [
       "<div>\n",
       "<style scoped>\n",
       "    .dataframe tbody tr th:only-of-type {\n",
       "        vertical-align: middle;\n",
       "    }\n",
       "\n",
       "    .dataframe tbody tr th {\n",
       "        vertical-align: top;\n",
       "    }\n",
       "\n",
       "    .dataframe thead th {\n",
       "        text-align: right;\n",
       "    }\n",
       "</style>\n",
       "<table border=\"1\" class=\"dataframe\">\n",
       "  <thead>\n",
       "    <tr style=\"text-align: right;\">\n",
       "      <th></th>\n",
       "      <th>chi2_value</th>\n",
       "      <th>pvalue</th>\n",
       "    </tr>\n",
       "  </thead>\n",
       "  <tbody>\n",
       "    <tr>\n",
       "      <th>price</th>\n",
       "      <td>27.523496</td>\n",
       "      <td>1.551976e-07</td>\n",
       "    </tr>\n",
       "    <tr>\n",
       "      <th>operative_system</th>\n",
       "      <td>7.378510</td>\n",
       "      <td>6.600782e-03</td>\n",
       "    </tr>\n",
       "    <tr>\n",
       "      <th>source</th>\n",
       "      <td>2.451427</td>\n",
       "      <td>1.174181e-01</td>\n",
       "    </tr>\n",
       "    <tr>\n",
       "      <th>device</th>\n",
       "      <td>0.706940</td>\n",
       "      <td>4.004615e-01</td>\n",
       "    </tr>\n",
       "  </tbody>\n",
       "</table>\n",
       "</div>"
      ],
      "text/plain": [
       "                  chi2_value        pvalue\n",
       "price              27.523496  1.551976e-07\n",
       "operative_system    7.378510  6.600782e-03\n",
       "source              2.451427  1.174181e-01\n",
       "device              0.706940  4.004615e-01"
      ]
     },
     "execution_count": 53,
     "metadata": {},
     "output_type": "execute_result"
    }
   ],
   "source": [
    "# run chi2 test to see which feature greatly impact \"converted\"\n",
    "columns = ['source','device','operative_system','price']\n",
    "ch2values,pvalues = chi2(test1[columns],test1[\"converted\"])\n",
    "pd.DataFrame({'chi2_value':ch2values,'pvalue':pvalues},index = columns).sort_values(by='pvalue')"
   ]
  },
  {
   "cell_type": "markdown",
   "metadata": {},
   "source": [
    "It can be found from above result, 'price' and 'operative_system' are two main factor which impact converted more. And \"source\" and 'device' didn't show impact on conversion rate."
   ]
  },
  {
   "cell_type": "code",
   "execution_count": 56,
   "metadata": {},
   "outputs": [
    {
     "data": {
      "text/html": [
       "<div>\n",
       "<style scoped>\n",
       "    .dataframe tbody tr th:only-of-type {\n",
       "        vertical-align: middle;\n",
       "    }\n",
       "\n",
       "    .dataframe tbody tr th {\n",
       "        vertical-align: top;\n",
       "    }\n",
       "\n",
       "    .dataframe thead th {\n",
       "        text-align: right;\n",
       "    }\n",
       "</style>\n",
       "<table border=\"1\" class=\"dataframe\">\n",
       "  <thead>\n",
       "    <tr style=\"text-align: right;\">\n",
       "      <th></th>\n",
       "      <th>0</th>\n",
       "      <th>1</th>\n",
       "    </tr>\n",
       "    <tr>\n",
       "      <th>price</th>\n",
       "      <th></th>\n",
       "      <th></th>\n",
       "    </tr>\n",
       "  </thead>\n",
       "  <tbody>\n",
       "    <tr>\n",
       "      <th>39</th>\n",
       "      <td>0.980100</td>\n",
       "      <td>0.019900</td>\n",
       "    </tr>\n",
       "    <tr>\n",
       "      <th>59</th>\n",
       "      <td>0.984445</td>\n",
       "      <td>0.015555</td>\n",
       "    </tr>\n",
       "  </tbody>\n",
       "</table>\n",
       "</div>"
      ],
      "text/plain": [
       "              0         1\n",
       "price                    \n",
       "39     0.980100  0.019900\n",
       "59     0.984445  0.015555"
      ]
     },
     "execution_count": 56,
     "metadata": {},
     "output_type": "execute_result"
    }
   ],
   "source": [
    "# check how price affects converted\n",
    "price_converted = test.groupby('price')['converted'].apply(lambda a: a.value_counts(normalize = True)).unstack()\n",
    "price_converted"
   ]
  },
  {
   "cell_type": "markdown",
   "metadata": {},
   "source": [
    "It can be found that uses who see 59 dollars showed lower conversion rate than users who see 39 dollars."
   ]
  },
  {
   "cell_type": "code",
   "execution_count": 57,
   "metadata": {},
   "outputs": [
    {
     "data": {
      "text/html": [
       "<div>\n",
       "<style scoped>\n",
       "    .dataframe tbody tr th:only-of-type {\n",
       "        vertical-align: middle;\n",
       "    }\n",
       "\n",
       "    .dataframe tbody tr th {\n",
       "        vertical-align: top;\n",
       "    }\n",
       "\n",
       "    .dataframe thead th {\n",
       "        text-align: right;\n",
       "    }\n",
       "</style>\n",
       "<table border=\"1\" class=\"dataframe\">\n",
       "  <thead>\n",
       "    <tr style=\"text-align: right;\">\n",
       "      <th></th>\n",
       "      <th>0</th>\n",
       "      <th>1</th>\n",
       "    </tr>\n",
       "    <tr>\n",
       "      <th>operative_system</th>\n",
       "      <th></th>\n",
       "      <th></th>\n",
       "    </tr>\n",
       "  </thead>\n",
       "  <tbody>\n",
       "    <tr>\n",
       "      <th>linux</th>\n",
       "      <td>0.991768</td>\n",
       "      <td>0.008232</td>\n",
       "    </tr>\n",
       "    <tr>\n",
       "      <th>other</th>\n",
       "      <td>0.987019</td>\n",
       "      <td>0.012981</td>\n",
       "    </tr>\n",
       "    <tr>\n",
       "      <th>android</th>\n",
       "      <td>0.985081</td>\n",
       "      <td>0.014919</td>\n",
       "    </tr>\n",
       "    <tr>\n",
       "      <th>windows</th>\n",
       "      <td>0.983034</td>\n",
       "      <td>0.016966</td>\n",
       "    </tr>\n",
       "    <tr>\n",
       "      <th>iOS</th>\n",
       "      <td>0.977672</td>\n",
       "      <td>0.022328</td>\n",
       "    </tr>\n",
       "    <tr>\n",
       "      <th>mac</th>\n",
       "      <td>0.976013</td>\n",
       "      <td>0.023987</td>\n",
       "    </tr>\n",
       "  </tbody>\n",
       "</table>\n",
       "</div>"
      ],
      "text/plain": [
       "                         0         1\n",
       "operative_system                    \n",
       "linux             0.991768  0.008232\n",
       "other             0.987019  0.012981\n",
       "android           0.985081  0.014919\n",
       "windows           0.983034  0.016966\n",
       "iOS               0.977672  0.022328\n",
       "mac               0.976013  0.023987"
      ]
     },
     "execution_count": 57,
     "metadata": {},
     "output_type": "execute_result"
    }
   ],
   "source": [
    "# chek how operative_system affects convertion rate\n",
    "os_converted = test.groupby('operative_system')['converted'].apply(lambda a: a.value_counts(normalize =True)).unstack().sort_values(by=1)\n",
    "os_converted"
   ]
  },
  {
   "cell_type": "code",
   "execution_count": 60,
   "metadata": {},
   "outputs": [
    {
     "data": {
      "text/html": [
       "<div>\n",
       "<style scoped>\n",
       "    .dataframe tbody tr th:only-of-type {\n",
       "        vertical-align: middle;\n",
       "    }\n",
       "\n",
       "    .dataframe tbody tr th {\n",
       "        vertical-align: top;\n",
       "    }\n",
       "\n",
       "    .dataframe thead th {\n",
       "        text-align: right;\n",
       "    }\n",
       "</style>\n",
       "<table border=\"1\" class=\"dataframe\">\n",
       "  <thead>\n",
       "    <tr style=\"text-align: right;\">\n",
       "      <th></th>\n",
       "      <th>android</th>\n",
       "      <th>iOS</th>\n",
       "      <th>linux</th>\n",
       "      <th>mac</th>\n",
       "      <th>other</th>\n",
       "      <th>windows</th>\n",
       "    </tr>\n",
       "    <tr>\n",
       "      <th>converted</th>\n",
       "      <th></th>\n",
       "      <th></th>\n",
       "      <th></th>\n",
       "      <th></th>\n",
       "      <th></th>\n",
       "      <th></th>\n",
       "    </tr>\n",
       "  </thead>\n",
       "  <tbody>\n",
       "    <tr>\n",
       "      <th>0</th>\n",
       "      <td>0.237428</td>\n",
       "      <td>0.300110</td>\n",
       "      <td>0.013186</td>\n",
       "      <td>0.078723</td>\n",
       "      <td>0.051401</td>\n",
       "      <td>0.319152</td>\n",
       "    </tr>\n",
       "    <tr>\n",
       "      <th>1</th>\n",
       "      <td>0.192520</td>\n",
       "      <td>0.366942</td>\n",
       "      <td>0.005860</td>\n",
       "      <td>0.103585</td>\n",
       "      <td>0.036194</td>\n",
       "      <td>0.294898</td>\n",
       "    </tr>\n",
       "  </tbody>\n",
       "</table>\n",
       "</div>"
      ],
      "text/plain": [
       "            android       iOS     linux       mac     other   windows\n",
       "converted                                                            \n",
       "0          0.237428  0.300110  0.013186  0.078723  0.051401  0.319152\n",
       "1          0.192520  0.366942  0.005860  0.103585  0.036194  0.294898"
      ]
     },
     "execution_count": 60,
     "metadata": {},
     "output_type": "execute_result"
    }
   ],
   "source": [
    "converted_os = test.groupby('converted')['operative_system'].apply(lambda a:a.value_counts(normalize = True)).unstack()\n",
    "converted_os                                                      "
   ]
  },
  {
   "cell_type": "code",
   "execution_count": 63,
   "metadata": {},
   "outputs": [
    {
     "data": {
      "text/plain": [
       "<matplotlib.axes._subplots.AxesSubplot at 0x27b22430ac0>"
      ]
     },
     "execution_count": 63,
     "metadata": {},
     "output_type": "execute_result"
    },
    {
     "data": {
      "image/png": "[encoded data removed]",
      "text/plain": [
       "<Figure size 432x288 with 1 Axes>"
      ]
     },
     "metadata": {
      "needs_background": "light"
     },
     "output_type": "display_data"
    }
   ],
   "source": [
    "# visualize the conversion_rate of different operative system\n",
    "converted_os.T.plot(kind='bar')"
   ]
  },
  {
   "cell_type": "markdown",
   "metadata": {},
   "source": [
    "It can be found that iOS and mac users have higher conversion rate than users from other operative system.\n",
    "\n",
    "Linus users showed lower conversion rate than users from other operative system."
   ]
  },
  {
   "cell_type": "markdown",
   "metadata": {},
   "source": [
    "<a id='model'></a>\n",
    "### Decision Tree\n",
    "I will build a Decision Tree to get important features.Since I want to get the detailed operative system or device, source effect on the conversion rate, I will use One-Hot-Encoding to transfer categorical features to numbers"
   ]
  },
  {
   "cell_type": "code",
   "execution_count": 68,
   "metadata": {},
   "outputs": [],
   "source": [
    "# Drop unnecessary columns\n",
    "test2 = test.copy()\n",
    "test2 = test2.drop(columns=['timestamp','test','revenue','user_id'])\n",
    "\n",
    "# one-hot encoding categorical features\n",
    "test2 = pd.get_dummies(test2)\n",
    "test2 = test2.drop(columns=['operative_system_other','device_web','source_ads_other'])"
   ]
  },
  {
   "cell_type": "code",
   "execution_count": 71,
   "metadata": {},
   "outputs": [
    {
     "data": {
      "image/svg+xml": [
       "<?xml version=\"1.0\" encoding=\"UTF-8\" standalone=\"no\"?>\r\n",
       "<!DOCTYPE svg PUBLIC \"-//W3C//DTD SVG 1.1//EN\"\r\n",
       " \"http://www.w3.org/Graphics/SVG/1.1/DTD/svg11.dtd\">\r\n",
       "<!-- Generated by graphviz version 2.38.0 (20140413.2041)\r\n",
       " -->\r\n",
       "<!-- Title: Tree Pages: 1 -->\r\n",
       "<svg width=\"2134pt\" height=\"485pt\"\r\n",
       " viewBox=\"0.00 0.00 2133.50 484.50\" xmlns=\"http://www.w3.org/2000/svg\" xmlns:xlink=\"http://www.w3.org/1999/xlink\">\r\n",
       "<g id=\"graph0\" class=\"graph\" transform=\"scale(1 1) rotate(0) translate(4 480.5)\">\r\n",
       "<title>Tree</title>\r\n",
       "<polygon fill=\"white\" stroke=\"none\" points=\"-4,4 -4,-480.5 2129.5,-480.5 2129.5,4 -4,4\"/>\r\n",
       "<!-- 0 -->\r\n",
       "<g id=\"node1\" class=\"node\"><title>0</title>\r\n",
       "<polygon fill=\"#e5833d\" stroke=\"black\" points=\"1299.5,-476.5 1117.5,-476.5 1117.5,-408.5 1299.5,-408.5 1299.5,-476.5\"/>\r\n",
       "<text text-anchor=\"middle\" x=\"1208.5\" y=\"-461.3\" font-family=\"Times New Roman,serif\" font-size=\"14.00\">source_friend_referral &lt;= 0.5</text>\r\n",
       "<text text-anchor=\"middle\" x=\"1208.5\" y=\"-446.3\" font-family=\"Times New Roman,serif\" font-size=\"14.00\">gini = 0.036</text>\r\n",
       "<text text-anchor=\"middle\" x=\"1208.5\" y=\"-431.3\" font-family=\"Times New Roman,serif\" font-size=\"14.00\">samples = 100.0%</text>\r\n",
       "<text text-anchor=\"middle\" x=\"1208.5\" y=\"-416.3\" font-family=\"Times New Roman,serif\" font-size=\"14.00\">value = [0.982, 0.018]</text>\r\n",
       "</g>\r\n",
       "<!-- 1 -->\r\n",
       "<g id=\"node2\" class=\"node\"><title>1</title>\r\n",
       "<polygon fill=\"#e5833c\" stroke=\"black\" points=\"1012,-372.5 827,-372.5 827,-304.5 1012,-304.5 1012,-372.5\"/>\r\n",
       "<text text-anchor=\"middle\" x=\"919.5\" y=\"-357.3\" font-family=\"Times New Roman,serif\" font-size=\"14.00\">operative_system_iOS &lt;= 0.5</text>\r\n",
       "<text text-anchor=\"middle\" x=\"919.5\" y=\"-342.3\" font-family=\"Times New Roman,serif\" font-size=\"14.00\">gini = 0.033</text>\r\n",
       "<text text-anchor=\"middle\" x=\"919.5\" y=\"-327.3\" font-family=\"Times New Roman,serif\" font-size=\"14.00\">samples = 93.5%</text>\r\n",
       "<text text-anchor=\"middle\" x=\"919.5\" y=\"-312.3\" font-family=\"Times New Roman,serif\" font-size=\"14.00\">value = [0.983, 0.017]</text>\r\n",
       "</g>\r\n",
       "<!-- 0&#45;&gt;1 -->\r\n",
       "<g id=\"edge1\" class=\"edge\"><title>0&#45;&gt;1</title>\r\n",
       "<path fill=\"none\" stroke=\"black\" d=\"M1117.46,-409.367C1087.02,-398.624 1052.9,-386.581 1021.67,-375.559\"/>\r\n",
       "<polygon fill=\"black\" stroke=\"black\" points=\"1022.67,-372.202 1012.08,-372.174 1020.34,-378.802 1022.67,-372.202\"/>\r\n",
       "<text text-anchor=\"middle\" x=\"1022.86\" y=\"-391.027\" font-family=\"Times New Roman,serif\" font-size=\"14.00\">True</text>\r\n",
       "</g>\r\n",
       "<!-- 16 -->\r\n",
       "<g id=\"node17\" class=\"node\"><title>16</title>\r\n",
       "<polygon fill=\"#e68641\" stroke=\"black\" points=\"1578,-372.5 1439,-372.5 1439,-304.5 1578,-304.5 1578,-372.5\"/>\r\n",
       "<text text-anchor=\"middle\" x=\"1508.5\" y=\"-357.3\" font-family=\"Times New Roman,serif\" font-size=\"14.00\">price &lt;= 49.0</text>\r\n",
       "<text text-anchor=\"middle\" x=\"1508.5\" y=\"-342.3\" font-family=\"Times New Roman,serif\" font-size=\"14.00\">gini = 0.074</text>\r\n",
       "<text text-anchor=\"middle\" x=\"1508.5\" y=\"-327.3\" font-family=\"Times New Roman,serif\" font-size=\"14.00\">samples = 6.5%</text>\r\n",
       "<text text-anchor=\"middle\" x=\"1508.5\" y=\"-312.3\" font-family=\"Times New Roman,serif\" font-size=\"14.00\">value = [0.961, 0.039]</text>\r\n",
       "</g>\r\n",
       "<!-- 0&#45;&gt;16 -->\r\n",
       "<g id=\"edge16\" class=\"edge\"><title>0&#45;&gt;16</title>\r\n",
       "<path fill=\"none\" stroke=\"black\" d=\"M1299.73,-410.481C1340.98,-396.457 1389.27,-380.039 1429.01,-366.527\"/>\r\n",
       "<polygon fill=\"black\" stroke=\"black\" points=\"1430.32,-369.78 1438.66,-363.247 1428.06,-363.152 1430.32,-369.78\"/>\r\n",
       "<text text-anchor=\"middle\" x=\"1427.61\" y=\"-381.974\" font-family=\"Times New Roman,serif\" font-size=\"14.00\">False</text>\r\n",
       "</g>\r\n",
       "<!-- 2 -->\r\n",
       "<g id=\"node3\" class=\"node\"><title>2</title>\r\n",
       "<polygon fill=\"#e5833c\" stroke=\"black\" points=\"556.5,-268.5 370.5,-268.5 370.5,-200.5 556.5,-200.5 556.5,-268.5\"/>\r\n",
       "<text text-anchor=\"middle\" x=\"463.5\" y=\"-253.3\" font-family=\"Times New Roman,serif\" font-size=\"14.00\">operative_system_mac &lt;= 0.5</text>\r\n",
       "<text text-anchor=\"middle\" x=\"463.5\" y=\"-238.3\" font-family=\"Times New Roman,serif\" font-size=\"14.00\">gini = 0.03</text>\r\n",
       "<text text-anchor=\"middle\" x=\"463.5\" y=\"-223.3\" font-family=\"Times New Roman,serif\" font-size=\"14.00\">samples = 65.3%</text>\r\n",
       "<text text-anchor=\"middle\" x=\"463.5\" y=\"-208.3\" font-family=\"Times New Roman,serif\" font-size=\"14.00\">value = [0.985, 0.015]</text>\r\n",
       "</g>\r\n",
       "<!-- 1&#45;&gt;2 -->\r\n",
       "<g id=\"edge2\" class=\"edge\"><title>1&#45;&gt;2</title>\r\n",
       "<path fill=\"none\" stroke=\"black\" d=\"M826.947,-316.797C751.429,-299.905 644.811,-276.057 566.579,-258.557\"/>\r\n",
       "<polygon fill=\"black\" stroke=\"black\" points=\"567.224,-255.115 556.701,-256.348 565.696,-261.946 567.224,-255.115\"/>\r\n",
       "</g>\r\n",
       "<!-- 9 -->\r\n",
       "<g id=\"node10\" class=\"node\"><title>9</title>\r\n",
       "<polygon fill=\"#e6843d\" stroke=\"black\" points=\"1001.5,-268.5 837.5,-268.5 837.5,-200.5 1001.5,-200.5 1001.5,-268.5\"/>\r\n",
       "<text text-anchor=\"middle\" x=\"919.5\" y=\"-253.3\" font-family=\"Times New Roman,serif\" font-size=\"14.00\">source_ads&#45;google &lt;= 0.5</text>\r\n",
       "<text text-anchor=\"middle\" x=\"919.5\" y=\"-238.3\" font-family=\"Times New Roman,serif\" font-size=\"14.00\">gini = 0.041</text>\r\n",
       "<text text-anchor=\"middle\" x=\"919.5\" y=\"-223.3\" font-family=\"Times New Roman,serif\" font-size=\"14.00\">samples = 28.1%</text>\r\n",
       "<text text-anchor=\"middle\" x=\"919.5\" y=\"-208.3\" font-family=\"Times New Roman,serif\" font-size=\"14.00\">value = [0.979, 0.021]</text>\r\n",
       "</g>\r\n",
       "<!-- 1&#45;&gt;9 -->\r\n",
       "<g id=\"edge9\" class=\"edge\"><title>1&#45;&gt;9</title>\r\n",
       "<path fill=\"none\" stroke=\"black\" d=\"M919.5,-304.384C919.5,-296.278 919.5,-287.482 919.5,-278.972\"/>\r\n",
       "<polygon fill=\"black\" stroke=\"black\" points=\"923,-278.799 919.5,-268.799 916,-278.799 923,-278.799\"/>\r\n",
       "</g>\r\n",
       "<!-- 3 -->\r\n",
       "<g id=\"node4\" class=\"node\"><title>3</title>\r\n",
       "<polygon fill=\"#e5833c\" stroke=\"black\" points=\"307,-164.5 132,-164.5 132,-96.5 307,-96.5 307,-164.5\"/>\r\n",
       "<text text-anchor=\"middle\" x=\"219.5\" y=\"-149.3\" font-family=\"Times New Roman,serif\" font-size=\"14.00\">source_direct_traffic &lt;= 0.5</text>\r\n",
       "<text text-anchor=\"middle\" x=\"219.5\" y=\"-134.3\" font-family=\"Times New Roman,serif\" font-size=\"14.00\">gini = 0.028</text>\r\n",
       "<text text-anchor=\"middle\" x=\"219.5\" y=\"-119.3\" font-family=\"Times New Roman,serif\" font-size=\"14.00\">samples = 58.0%</text>\r\n",
       "<text text-anchor=\"middle\" x=\"219.5\" y=\"-104.3\" font-family=\"Times New Roman,serif\" font-size=\"14.00\">value = [0.986, 0.014]</text>\r\n",
       "</g>\r\n",
       "<!-- 2&#45;&gt;3 -->\r\n",
       "<g id=\"edge3\" class=\"edge\"><title>2&#45;&gt;3</title>\r\n",
       "<path fill=\"none\" stroke=\"black\" d=\"M384.28,-200.384C359.972,-190.222 333.07,-178.976 308.174,-168.569\"/>\r\n",
       "<polygon fill=\"black\" stroke=\"black\" points=\"309.316,-165.252 298.74,-164.625 306.616,-171.711 309.316,-165.252\"/>\r\n",
       "</g>\r\n",
       "<!-- 6 -->\r\n",
       "<g id=\"node7\" class=\"node\"><title>6</title>\r\n",
       "<polygon fill=\"#e6843e\" stroke=\"black\" points=\"539,-164.5 388,-164.5 388,-96.5 539,-96.5 539,-164.5\"/>\r\n",
       "<text text-anchor=\"middle\" x=\"463.5\" y=\"-149.3\" font-family=\"Times New Roman,serif\" font-size=\"14.00\">source_ads&#45;bing &lt;= 0.5</text>\r\n",
       "<text text-anchor=\"middle\" x=\"463.5\" y=\"-134.3\" font-family=\"Times New Roman,serif\" font-size=\"14.00\">gini = 0.044</text>\r\n",
       "<text text-anchor=\"middle\" x=\"463.5\" y=\"-119.3\" font-family=\"Times New Roman,serif\" font-size=\"14.00\">samples = 7.4%</text>\r\n",
       "<text text-anchor=\"middle\" x=\"463.5\" y=\"-104.3\" font-family=\"Times New Roman,serif\" font-size=\"14.00\">value = [0.977, 0.023]</text>\r\n",
       "</g>\r\n",
       "<!-- 2&#45;&gt;6 -->\r\n",
       "<g id=\"edge6\" class=\"edge\"><title>2&#45;&gt;6</title>\r\n",
       "<path fill=\"none\" stroke=\"black\" d=\"M463.5,-200.384C463.5,-192.278 463.5,-183.482 463.5,-174.972\"/>\r\n",
       "<polygon fill=\"black\" stroke=\"black\" points=\"467,-174.799 463.5,-164.799 460,-174.799 467,-174.799\"/>\r\n",
       "</g>\r\n",
       "<!-- 4 -->\r\n",
       "<g id=\"node5\" class=\"node\"><title>4</title>\r\n",
       "<polygon fill=\"#e5833c\" stroke=\"black\" points=\"139,-53 0,-53 0,-0 139,-0 139,-53\"/>\r\n",
       "<text text-anchor=\"middle\" x=\"69.5\" y=\"-37.8\" font-family=\"Times New Roman,serif\" font-size=\"14.00\">gini = 0.03</text>\r\n",
       "<text text-anchor=\"middle\" x=\"69.5\" y=\"-22.8\" font-family=\"Times New Roman,serif\" font-size=\"14.00\">samples = 46.1%</text>\r\n",
       "<text text-anchor=\"middle\" x=\"69.5\" y=\"-7.8\" font-family=\"Times New Roman,serif\" font-size=\"14.00\">value = [0.985, 0.015]</text>\r\n",
       "</g>\r\n",
       "<!-- 3&#45;&gt;4 -->\r\n",
       "<g id=\"edge4\" class=\"edge\"><title>3&#45;&gt;4</title>\r\n",
       "<path fill=\"none\" stroke=\"black\" d=\"M170.799,-96.3835C153.009,-84.2859 132.957,-70.651 115.417,-58.7237\"/>\r\n",
       "<polygon fill=\"black\" stroke=\"black\" points=\"117.267,-55.7488 107.029,-53.0199 113.33,-61.5373 117.267,-55.7488\"/>\r\n",
       "</g>\r\n",
       "<!-- 5 -->\r\n",
       "<g id=\"node6\" class=\"node\"><title>5</title>\r\n",
       "<polygon fill=\"#e5823b\" stroke=\"black\" points=\"282,-53 157,-53 157,-0 282,-0 282,-53\"/>\r\n",
       "<text text-anchor=\"middle\" x=\"219.5\" y=\"-37.8\" font-family=\"Times New Roman,serif\" font-size=\"14.00\">gini = 0.019</text>\r\n",
       "<text text-anchor=\"middle\" x=\"219.5\" y=\"-22.8\" font-family=\"Times New Roman,serif\" font-size=\"14.00\">samples = 11.9%</text>\r\n",
       "<text text-anchor=\"middle\" x=\"219.5\" y=\"-7.8\" font-family=\"Times New Roman,serif\" font-size=\"14.00\">value = [0.99, 0.01]</text>\r\n",
       "</g>\r\n",
       "<!-- 3&#45;&gt;5 -->\r\n",
       "<g id=\"edge5\" class=\"edge\"><title>3&#45;&gt;5</title>\r\n",
       "<path fill=\"none\" stroke=\"black\" d=\"M219.5,-96.3835C219.5,-85.8256 219.5,-74.0968 219.5,-63.3541\"/>\r\n",
       "<polygon fill=\"black\" stroke=\"black\" points=\"223,-63.0199 219.5,-53.0199 216,-63.02 223,-63.0199\"/>\r\n",
       "</g>\r\n",
       "<!-- 7 -->\r\n",
       "<g id=\"node8\" class=\"node\"><title>7</title>\r\n",
       "<polygon fill=\"#e6843e\" stroke=\"black\" points=\"439,-53 300,-53 300,-0 439,-0 439,-53\"/>\r\n",
       "<text text-anchor=\"middle\" x=\"369.5\" y=\"-37.8\" font-family=\"Times New Roman,serif\" font-size=\"14.00\">gini = 0.046</text>\r\n",
       "<text text-anchor=\"middle\" x=\"369.5\" y=\"-22.8\" font-family=\"Times New Roman,serif\" font-size=\"14.00\">samples = 6.8%</text>\r\n",
       "<text text-anchor=\"middle\" x=\"369.5\" y=\"-7.8\" font-family=\"Times New Roman,serif\" font-size=\"14.00\">value = [0.977, 0.023]</text>\r\n",
       "</g>\r\n",
       "<!-- 6&#45;&gt;7 -->\r\n",
       "<g id=\"edge7\" class=\"edge\"><title>6&#45;&gt;7</title>\r\n",
       "<path fill=\"none\" stroke=\"black\" d=\"M432.981,-96.3835C422.44,-84.9457 410.633,-72.1339 400.087,-60.6902\"/>\r\n",
       "<polygon fill=\"black\" stroke=\"black\" points=\"402.369,-58.0016 393.018,-53.0199 397.221,-62.7454 402.369,-58.0016\"/>\r\n",
       "</g>\r\n",
       "<!-- 8 -->\r\n",
       "<g id=\"node9\" class=\"node\"><title>8</title>\r\n",
       "<polygon fill=\"#e5833c\" stroke=\"black\" points=\"596,-53 457,-53 457,-0 596,-0 596,-53\"/>\r\n",
       "<text text-anchor=\"middle\" x=\"526.5\" y=\"-37.8\" font-family=\"Times New Roman,serif\" font-size=\"14.00\">gini = 0.026</text>\r\n",
       "<text text-anchor=\"middle\" x=\"526.5\" y=\"-22.8\" font-family=\"Times New Roman,serif\" font-size=\"14.00\">samples = 0.5%</text>\r\n",
       "<text text-anchor=\"middle\" x=\"526.5\" y=\"-7.8\" font-family=\"Times New Roman,serif\" font-size=\"14.00\">value = [0.987, 0.013]</text>\r\n",
       "</g>\r\n",
       "<!-- 6&#45;&gt;8 -->\r\n",
       "<g id=\"edge8\" class=\"edge\"><title>6&#45;&gt;8</title>\r\n",
       "<path fill=\"none\" stroke=\"black\" d=\"M483.954,-96.3835C490.815,-85.2757 498.476,-72.8719 505.386,-61.6839\"/>\r\n",
       "<polygon fill=\"black\" stroke=\"black\" points=\"508.461,-63.3672 510.738,-53.0199 502.505,-59.6887 508.461,-63.3672\"/>\r\n",
       "</g>\r\n",
       "<!-- 10 -->\r\n",
       "<g id=\"node11\" class=\"node\"><title>10</title>\r\n",
       "<polygon fill=\"#e6833d\" stroke=\"black\" points=\"920.5,-164.5 738.5,-164.5 738.5,-96.5 920.5,-96.5 920.5,-164.5\"/>\r\n",
       "<text text-anchor=\"middle\" x=\"829.5\" y=\"-149.3\" font-family=\"Times New Roman,serif\" font-size=\"14.00\">source_ads_facebook &lt;= 0.5</text>\r\n",
       "<text text-anchor=\"middle\" x=\"829.5\" y=\"-134.3\" font-family=\"Times New Roman,serif\" font-size=\"14.00\">gini = 0.038</text>\r\n",
       "<text text-anchor=\"middle\" x=\"829.5\" y=\"-119.3\" font-family=\"Times New Roman,serif\" font-size=\"14.00\">samples = 22.4%</text>\r\n",
       "<text text-anchor=\"middle\" x=\"829.5\" y=\"-104.3\" font-family=\"Times New Roman,serif\" font-size=\"14.00\">value = [0.981, 0.019]</text>\r\n",
       "</g>\r\n",
       "<!-- 9&#45;&gt;10 -->\r\n",
       "<g id=\"edge10\" class=\"edge\"><title>9&#45;&gt;10</title>\r\n",
       "<path fill=\"none\" stroke=\"black\" d=\"M890.28,-200.384C882.42,-191.476 873.825,-181.735 865.638,-172.457\"/>\r\n",
       "<polygon fill=\"black\" stroke=\"black\" points=\"868.122,-169.982 858.882,-164.799 862.874,-174.613 868.122,-169.982\"/>\r\n",
       "</g>\r\n",
       "<!-- 13 -->\r\n",
       "<g id=\"node14\" class=\"node\"><title>13</title>\r\n",
       "<polygon fill=\"#e6843e\" stroke=\"black\" points=\"1078,-164.5 939,-164.5 939,-96.5 1078,-96.5 1078,-164.5\"/>\r\n",
       "<text text-anchor=\"middle\" x=\"1008.5\" y=\"-149.3\" font-family=\"Times New Roman,serif\" font-size=\"14.00\">price &lt;= 49.0</text>\r\n",
       "<text text-anchor=\"middle\" x=\"1008.5\" y=\"-134.3\" font-family=\"Times New Roman,serif\" font-size=\"14.00\">gini = 0.051</text>\r\n",
       "<text text-anchor=\"middle\" x=\"1008.5\" y=\"-119.3\" font-family=\"Times New Roman,serif\" font-size=\"14.00\">samples = 5.7%</text>\r\n",
       "<text text-anchor=\"middle\" x=\"1008.5\" y=\"-104.3\" font-family=\"Times New Roman,serif\" font-size=\"14.00\">value = [0.974, 0.026]</text>\r\n",
       "</g>\r\n",
       "<!-- 9&#45;&gt;13 -->\r\n",
       "<g id=\"edge13\" class=\"edge\"><title>9&#45;&gt;13</title>\r\n",
       "<path fill=\"none\" stroke=\"black\" d=\"M948.396,-200.384C956.168,-191.476 964.667,-181.735 972.763,-172.457\"/>\r\n",
       "<polygon fill=\"black\" stroke=\"black\" points=\"975.507,-174.635 979.445,-164.799 970.233,-170.033 975.507,-174.635\"/>\r\n",
       "</g>\r\n",
       "<!-- 11 -->\r\n",
       "<g id=\"node12\" class=\"node\"><title>11</title>\r\n",
       "<polygon fill=\"#e5833d\" stroke=\"black\" points=\"753,-53 614,-53 614,-0 753,-0 753,-53\"/>\r\n",
       "<text text-anchor=\"middle\" x=\"683.5\" y=\"-37.8\" font-family=\"Times New Roman,serif\" font-size=\"14.00\">gini = 0.035</text>\r\n",
       "<text text-anchor=\"middle\" x=\"683.5\" y=\"-22.8\" font-family=\"Times New Roman,serif\" font-size=\"14.00\">samples = 17.2%</text>\r\n",
       "<text text-anchor=\"middle\" x=\"683.5\" y=\"-7.8\" font-family=\"Times New Roman,serif\" font-size=\"14.00\">value = [0.982, 0.018]</text>\r\n",
       "</g>\r\n",
       "<!-- 10&#45;&gt;11 -->\r\n",
       "<g id=\"edge11\" class=\"edge\"><title>10&#45;&gt;11</title>\r\n",
       "<path fill=\"none\" stroke=\"black\" d=\"M782.098,-96.3835C764.939,-84.3958 745.62,-70.8988 728.659,-59.0495\"/>\r\n",
       "<polygon fill=\"black\" stroke=\"black\" points=\"730.231,-55.8779 720.029,-53.0199 726.222,-61.6162 730.231,-55.8779\"/>\r\n",
       "</g>\r\n",
       "<!-- 12 -->\r\n",
       "<g id=\"node13\" class=\"node\"><title>12</title>\r\n",
       "<polygon fill=\"#e6843e\" stroke=\"black\" points=\"910,-53 771,-53 771,-0 910,-0 910,-53\"/>\r\n",
       "<text text-anchor=\"middle\" x=\"840.5\" y=\"-37.8\" font-family=\"Times New Roman,serif\" font-size=\"14.00\">gini = 0.049</text>\r\n",
       "<text text-anchor=\"middle\" x=\"840.5\" y=\"-22.8\" font-family=\"Times New Roman,serif\" font-size=\"14.00\">samples = 5.2%</text>\r\n",
       "<text text-anchor=\"middle\" x=\"840.5\" y=\"-7.8\" font-family=\"Times New Roman,serif\" font-size=\"14.00\">value = [0.975, 0.025]</text>\r\n",
       "</g>\r\n",
       "<!-- 10&#45;&gt;12 -->\r\n",
       "<g id=\"edge12\" class=\"edge\"><title>10&#45;&gt;12</title>\r\n",
       "<path fill=\"none\" stroke=\"black\" d=\"M833.071,-96.3835C834.222,-85.7156 835.501,-73.8523 836.67,-63.0187\"/>\r\n",
       "<polygon fill=\"black\" stroke=\"black\" points=\"840.155,-63.3376 837.748,-53.0199 833.196,-62.587 840.155,-63.3376\"/>\r\n",
       "</g>\r\n",
       "<!-- 14 -->\r\n",
       "<g id=\"node15\" class=\"node\"><title>14</title>\r\n",
       "<polygon fill=\"#e6843e\" stroke=\"black\" points=\"1067,-53 928,-53 928,-0 1067,-0 1067,-53\"/>\r\n",
       "<text text-anchor=\"middle\" x=\"997.5\" y=\"-37.8\" font-family=\"Times New Roman,serif\" font-size=\"14.00\">gini = 0.051</text>\r\n",
       "<text text-anchor=\"middle\" x=\"997.5\" y=\"-22.8\" font-family=\"Times New Roman,serif\" font-size=\"14.00\">samples = 3.7%</text>\r\n",
       "<text text-anchor=\"middle\" x=\"997.5\" y=\"-7.8\" font-family=\"Times New Roman,serif\" font-size=\"14.00\">value = [0.974, 0.026]</text>\r\n",
       "</g>\r\n",
       "<!-- 13&#45;&gt;14 -->\r\n",
       "<g id=\"edge14\" class=\"edge\"><title>13&#45;&gt;14</title>\r\n",
       "<path fill=\"none\" stroke=\"black\" d=\"M1004.93,-96.3835C1003.78,-85.7156 1002.5,-73.8523 1001.33,-63.0187\"/>\r\n",
       "<polygon fill=\"black\" stroke=\"black\" points=\"1004.8,-62.587 1000.25,-53.0199 997.845,-63.3376 1004.8,-62.587\"/>\r\n",
       "</g>\r\n",
       "<!-- 15 -->\r\n",
       "<g id=\"node16\" class=\"node\"><title>15</title>\r\n",
       "<polygon fill=\"#e6843e\" stroke=\"black\" points=\"1224,-53 1085,-53 1085,-0 1224,-0 1224,-53\"/>\r\n",
       "<text text-anchor=\"middle\" x=\"1154.5\" y=\"-37.8\" font-family=\"Times New Roman,serif\" font-size=\"14.00\">gini = 0.05</text>\r\n",
       "<text text-anchor=\"middle\" x=\"1154.5\" y=\"-22.8\" font-family=\"Times New Roman,serif\" font-size=\"14.00\">samples = 2.0%</text>\r\n",
       "<text text-anchor=\"middle\" x=\"1154.5\" y=\"-7.8\" font-family=\"Times New Roman,serif\" font-size=\"14.00\">value = [0.974, 0.026]</text>\r\n",
       "</g>\r\n",
       "<!-- 13&#45;&gt;15 -->\r\n",
       "<g id=\"edge15\" class=\"edge\"><title>13&#45;&gt;15</title>\r\n",
       "<path fill=\"none\" stroke=\"black\" d=\"M1055.9,-96.3835C1073.06,-84.3958 1092.38,-70.8988 1109.34,-59.0495\"/>\r\n",
       "<polygon fill=\"black\" stroke=\"black\" points=\"1111.78,-61.6162 1117.97,-53.0199 1107.77,-55.8779 1111.78,-61.6162\"/>\r\n",
       "</g>\r\n",
       "<!-- 17 -->\r\n",
       "<g id=\"node18\" class=\"node\"><title>17</title>\r\n",
       "<polygon fill=\"#e68642\" stroke=\"black\" points=\"1601,-268.5 1416,-268.5 1416,-200.5 1601,-200.5 1601,-268.5\"/>\r\n",
       "<text text-anchor=\"middle\" x=\"1508.5\" y=\"-253.3\" font-family=\"Times New Roman,serif\" font-size=\"14.00\">operative_system_iOS &lt;= 0.5</text>\r\n",
       "<text text-anchor=\"middle\" x=\"1508.5\" y=\"-238.3\" font-family=\"Times New Roman,serif\" font-size=\"14.00\">gini = 0.08</text>\r\n",
       "<text text-anchor=\"middle\" x=\"1508.5\" y=\"-223.3\" font-family=\"Times New Roman,serif\" font-size=\"14.00\">samples = 4.1%</text>\r\n",
       "<text text-anchor=\"middle\" x=\"1508.5\" y=\"-208.3\" font-family=\"Times New Roman,serif\" font-size=\"14.00\">value = [0.958, 0.042]</text>\r\n",
       "</g>\r\n",
       "<!-- 16&#45;&gt;17 -->\r\n",
       "<g id=\"edge17\" class=\"edge\"><title>16&#45;&gt;17</title>\r\n",
       "<path fill=\"none\" stroke=\"black\" d=\"M1508.5,-304.384C1508.5,-296.278 1508.5,-287.482 1508.5,-278.972\"/>\r\n",
       "<polygon fill=\"black\" stroke=\"black\" points=\"1512,-278.799 1508.5,-268.799 1505,-278.799 1512,-278.799\"/>\r\n",
       "</g>\r\n",
       "<!-- 22 -->\r\n",
       "<g id=\"node23\" class=\"node\"><title>22</title>\r\n",
       "<polygon fill=\"#e68540\" stroke=\"black\" points=\"1941,-268.5 1752,-268.5 1752,-200.5 1941,-200.5 1941,-268.5\"/>\r\n",
       "<text text-anchor=\"middle\" x=\"1846.5\" y=\"-253.3\" font-family=\"Times New Roman,serif\" font-size=\"14.00\">operative_system_linux &lt;= 0.5</text>\r\n",
       "<text text-anchor=\"middle\" x=\"1846.5\" y=\"-238.3\" font-family=\"Times New Roman,serif\" font-size=\"14.00\">gini = 0.065</text>\r\n",
       "<text text-anchor=\"middle\" x=\"1846.5\" y=\"-223.3\" font-family=\"Times New Roman,serif\" font-size=\"14.00\">samples = 2.4%</text>\r\n",
       "<text text-anchor=\"middle\" x=\"1846.5\" y=\"-208.3\" font-family=\"Times New Roman,serif\" font-size=\"14.00\">value = [0.967, 0.033]</text>\r\n",
       "</g>\r\n",
       "<!-- 16&#45;&gt;22 -->\r\n",
       "<g id=\"edge22\" class=\"edge\"><title>16&#45;&gt;22</title>\r\n",
       "<path fill=\"none\" stroke=\"black\" d=\"M1578.12,-316.489C1625.43,-302.215 1688.84,-283.079 1742.14,-266.992\"/>\r\n",
       "<polygon fill=\"black\" stroke=\"black\" points=\"1743.41,-270.266 1751.97,-264.026 1741.39,-263.564 1743.41,-270.266\"/>\r\n",
       "</g>\r\n",
       "<!-- 18 -->\r\n",
       "<g id=\"node19\" class=\"node\"><title>18</title>\r\n",
       "<polygon fill=\"#e68641\" stroke=\"black\" points=\"1549,-164.5 1360,-164.5 1360,-96.5 1549,-96.5 1549,-164.5\"/>\r\n",
       "<text text-anchor=\"middle\" x=\"1454.5\" y=\"-149.3\" font-family=\"Times New Roman,serif\" font-size=\"14.00\">operative_system_linux &lt;= 0.5</text>\r\n",
       "<text text-anchor=\"middle\" x=\"1454.5\" y=\"-134.3\" font-family=\"Times New Roman,serif\" font-size=\"14.00\">gini = 0.077</text>\r\n",
       "<text text-anchor=\"middle\" x=\"1454.5\" y=\"-119.3\" font-family=\"Times New Roman,serif\" font-size=\"14.00\">samples = 2.9%</text>\r\n",
       "<text text-anchor=\"middle\" x=\"1454.5\" y=\"-104.3\" font-family=\"Times New Roman,serif\" font-size=\"14.00\">value = [0.96, 0.04]</text>\r\n",
       "</g>\r\n",
       "<!-- 17&#45;&gt;18 -->\r\n",
       "<g id=\"edge18\" class=\"edge\"><title>17&#45;&gt;18</title>\r\n",
       "<path fill=\"none\" stroke=\"black\" d=\"M1490.97,-200.384C1486.49,-191.922 1481.61,-182.707 1476.92,-173.852\"/>\r\n",
       "<polygon fill=\"black\" stroke=\"black\" points=\"1479.9,-172 1472.13,-164.799 1473.71,-175.275 1479.9,-172\"/>\r\n",
       "</g>\r\n",
       "<!-- 21 -->\r\n",
       "<g id=\"node22\" class=\"node\"><title>21</title>\r\n",
       "<polygon fill=\"#e68742\" stroke=\"black\" points=\"1681,-53 1542,-53 1542,-0 1681,-0 1681,-53\"/>\r\n",
       "<text text-anchor=\"middle\" x=\"1611.5\" y=\"-37.8\" font-family=\"Times New Roman,serif\" font-size=\"14.00\">gini = 0.086</text>\r\n",
       "<text text-anchor=\"middle\" x=\"1611.5\" y=\"-22.8\" font-family=\"Times New Roman,serif\" font-size=\"14.00\">samples = 1.3%</text>\r\n",
       "<text text-anchor=\"middle\" x=\"1611.5\" y=\"-7.8\" font-family=\"Times New Roman,serif\" font-size=\"14.00\">value = [0.955, 0.045]</text>\r\n",
       "</g>\r\n",
       "<!-- 17&#45;&gt;21 -->\r\n",
       "<g id=\"edge21\" class=\"edge\"><title>17&#45;&gt;21</title>\r\n",
       "<path fill=\"none\" stroke=\"black\" d=\"M1532.14,-200.213C1544.67,-182.568 1557.5,-164.5 1557.5,-164.5 1557.5,-164.5 1581.67,-103.18 1597.67,-62.5891\"/>\r\n",
       "<polygon fill=\"black\" stroke=\"black\" points=\"1600.93,-63.8555 1601.34,-53.2687 1594.42,-61.2886 1600.93,-63.8555\"/>\r\n",
       "</g>\r\n",
       "<!-- 19 -->\r\n",
       "<g id=\"node20\" class=\"node\"><title>19</title>\r\n",
       "<polygon fill=\"#e68641\" stroke=\"black\" points=\"1367,-53 1242,-53 1242,-0 1367,-0 1367,-53\"/>\r\n",
       "<text text-anchor=\"middle\" x=\"1304.5\" y=\"-37.8\" font-family=\"Times New Roman,serif\" font-size=\"14.00\">gini = 0.077</text>\r\n",
       "<text text-anchor=\"middle\" x=\"1304.5\" y=\"-22.8\" font-family=\"Times New Roman,serif\" font-size=\"14.00\">samples = 2.8%</text>\r\n",
       "<text text-anchor=\"middle\" x=\"1304.5\" y=\"-7.8\" font-family=\"Times New Roman,serif\" font-size=\"14.00\">value = [0.96, 0.04]</text>\r\n",
       "</g>\r\n",
       "<!-- 18&#45;&gt;19 -->\r\n",
       "<g id=\"edge19\" class=\"edge\"><title>18&#45;&gt;19</title>\r\n",
       "<path fill=\"none\" stroke=\"black\" d=\"M1405.8,-96.3835C1388.01,-84.2859 1367.96,-70.651 1350.42,-58.7237\"/>\r\n",
       "<polygon fill=\"black\" stroke=\"black\" points=\"1352.27,-55.7488 1342.03,-53.0199 1348.33,-61.5373 1352.27,-55.7488\"/>\r\n",
       "</g>\r\n",
       "<!-- 20 -->\r\n",
       "<g id=\"node21\" class=\"node\"><title>20</title>\r\n",
       "<polygon fill=\"#e68844\" stroke=\"black\" points=\"1524,-53 1385,-53 1385,-0 1524,-0 1524,-53\"/>\r\n",
       "<text text-anchor=\"middle\" x=\"1454.5\" y=\"-37.8\" font-family=\"Times New Roman,serif\" font-size=\"14.00\">gini = 0.096</text>\r\n",
       "<text text-anchor=\"middle\" x=\"1454.5\" y=\"-22.8\" font-family=\"Times New Roman,serif\" font-size=\"14.00\">samples = 0.0%</text>\r\n",
       "<text text-anchor=\"middle\" x=\"1454.5\" y=\"-7.8\" font-family=\"Times New Roman,serif\" font-size=\"14.00\">value = [0.949, 0.051]</text>\r\n",
       "</g>\r\n",
       "<!-- 18&#45;&gt;20 -->\r\n",
       "<g id=\"edge20\" class=\"edge\"><title>18&#45;&gt;20</title>\r\n",
       "<path fill=\"none\" stroke=\"black\" d=\"M1454.5,-96.3835C1454.5,-85.8256 1454.5,-74.0968 1454.5,-63.3541\"/>\r\n",
       "<polygon fill=\"black\" stroke=\"black\" points=\"1458,-63.0199 1454.5,-53.0199 1451,-63.02 1458,-63.0199\"/>\r\n",
       "</g>\r\n",
       "<!-- 23 -->\r\n",
       "<g id=\"node24\" class=\"node\"><title>23</title>\r\n",
       "<polygon fill=\"#e68640\" stroke=\"black\" points=\"1939,-164.5 1754,-164.5 1754,-96.5 1939,-96.5 1939,-164.5\"/>\r\n",
       "<text text-anchor=\"middle\" x=\"1846.5\" y=\"-149.3\" font-family=\"Times New Roman,serif\" font-size=\"14.00\">operative_system_iOS &lt;= 0.5</text>\r\n",
       "<text text-anchor=\"middle\" x=\"1846.5\" y=\"-134.3\" font-family=\"Times New Roman,serif\" font-size=\"14.00\">gini = 0.067</text>\r\n",
       "<text text-anchor=\"middle\" x=\"1846.5\" y=\"-119.3\" font-family=\"Times New Roman,serif\" font-size=\"14.00\">samples = 2.3%</text>\r\n",
       "<text text-anchor=\"middle\" x=\"1846.5\" y=\"-104.3\" font-family=\"Times New Roman,serif\" font-size=\"14.00\">value = [0.965, 0.035]</text>\r\n",
       "</g>\r\n",
       "<!-- 22&#45;&gt;23 -->\r\n",
       "<g id=\"edge23\" class=\"edge\"><title>22&#45;&gt;23</title>\r\n",
       "<path fill=\"none\" stroke=\"black\" d=\"M1846.5,-200.384C1846.5,-192.278 1846.5,-183.482 1846.5,-174.972\"/>\r\n",
       "<polygon fill=\"black\" stroke=\"black\" points=\"1850,-174.799 1846.5,-164.799 1843,-174.799 1850,-174.799\"/>\r\n",
       "</g>\r\n",
       "<!-- 26 -->\r\n",
       "<g id=\"node27\" class=\"node\"><title>26</title>\r\n",
       "<polygon fill=\"#e58139\" stroke=\"black\" points=\"2125.5,-53 2013.5,-53 2013.5,-0 2125.5,-0 2125.5,-53\"/>\r\n",
       "<text text-anchor=\"middle\" x=\"2069.5\" y=\"-37.8\" font-family=\"Times New Roman,serif\" font-size=\"14.00\">gini = 0.0</text>\r\n",
       "<text text-anchor=\"middle\" x=\"2069.5\" y=\"-22.8\" font-family=\"Times New Roman,serif\" font-size=\"14.00\">samples = 0.1%</text>\r\n",
       "<text text-anchor=\"middle\" x=\"2069.5\" y=\"-7.8\" font-family=\"Times New Roman,serif\" font-size=\"14.00\">value = [1.0, 0.0]</text>\r\n",
       "</g>\r\n",
       "<!-- 22&#45;&gt;26 -->\r\n",
       "<g id=\"edge26\" class=\"edge\"><title>22&#45;&gt;26</title>\r\n",
       "<path fill=\"none\" stroke=\"black\" d=\"M1894.93,-200.415C1920.85,-182.706 1947.5,-164.5 1947.5,-164.5 1947.5,-164.5 2003.73,-101.356 2039.84,-60.8046\"/>\r\n",
       "<polygon fill=\"black\" stroke=\"black\" points=\"2042.52,-63.0644 2046.55,-53.2687 2037.29,-58.4091 2042.52,-63.0644\"/>\r\n",
       "</g>\r\n",
       "<!-- 24 -->\r\n",
       "<g id=\"node25\" class=\"node\"><title>24</title>\r\n",
       "<polygon fill=\"#e6853f\" stroke=\"black\" points=\"1838,-53 1699,-53 1699,-0 1838,-0 1838,-53\"/>\r\n",
       "<text text-anchor=\"middle\" x=\"1768.5\" y=\"-37.8\" font-family=\"Times New Roman,serif\" font-size=\"14.00\">gini = 0.061</text>\r\n",
       "<text text-anchor=\"middle\" x=\"1768.5\" y=\"-22.8\" font-family=\"Times New Roman,serif\" font-size=\"14.00\">samples = 1.6%</text>\r\n",
       "<text text-anchor=\"middle\" x=\"1768.5\" y=\"-7.8\" font-family=\"Times New Roman,serif\" font-size=\"14.00\">value = [0.969, 0.031]</text>\r\n",
       "</g>\r\n",
       "<!-- 23&#45;&gt;24 -->\r\n",
       "<g id=\"edge24\" class=\"edge\"><title>23&#45;&gt;24</title>\r\n",
       "<path fill=\"none\" stroke=\"black\" d=\"M1821.18,-96.3835C1812.51,-85.0557 1802.82,-72.3801 1794.13,-61.0207\"/>\r\n",
       "<polygon fill=\"black\" stroke=\"black\" points=\"1796.87,-58.8374 1788.02,-53.0199 1791.31,-63.0896 1796.87,-58.8374\"/>\r\n",
       "</g>\r\n",
       "<!-- 25 -->\r\n",
       "<g id=\"node26\" class=\"node\"><title>25</title>\r\n",
       "<polygon fill=\"#e68742\" stroke=\"black\" points=\"1995,-53 1856,-53 1856,-0 1995,-0 1995,-53\"/>\r\n",
       "<text text-anchor=\"middle\" x=\"1925.5\" y=\"-37.8\" font-family=\"Times New Roman,serif\" font-size=\"14.00\">gini = 0.08</text>\r\n",
       "<text text-anchor=\"middle\" x=\"1925.5\" y=\"-22.8\" font-family=\"Times New Roman,serif\" font-size=\"14.00\">samples = 0.7%</text>\r\n",
       "<text text-anchor=\"middle\" x=\"1925.5\" y=\"-7.8\" font-family=\"Times New Roman,serif\" font-size=\"14.00\">value = [0.958, 0.042]</text>\r\n",
       "</g>\r\n",
       "<!-- 23&#45;&gt;25 -->\r\n",
       "<g id=\"edge25\" class=\"edge\"><title>23&#45;&gt;25</title>\r\n",
       "<path fill=\"none\" stroke=\"black\" d=\"M1872.15,-96.3835C1880.92,-85.0557 1890.74,-72.3801 1899.54,-61.0207\"/>\r\n",
       "<polygon fill=\"black\" stroke=\"black\" points=\"1902.38,-63.0691 1905.73,-53.0199 1896.84,-58.7828 1902.38,-63.0691\"/>\r\n",
       "</g>\r\n",
       "</g>\r\n",
       "</svg>\r\n"
      ],
      "text/plain": [
       "<graphviz.files.Source at 0x27b224bf340>"
      ]
     },
     "execution_count": 71,
     "metadata": {},
     "output_type": "execute_result"
    }
   ],
   "source": [
    "# split the data\n",
    "xtrain = test2.drop(columns='converted')\n",
    "ytrain = test2['converted']\n",
    "\n",
    "# build and train the model, visualization t\n",
    "dt = DecisionTreeClassifier(max_depth = 4)\n",
    "dt.fit(xtrain,ytrain)\n",
    "dot_data = tree.export_graphviz(dt,feature_names=xtrain.columns,proportion=True, filled = True,leaves_parallel=True)\n",
    "graph = graphviz.Source(dot_data)\n",
    "graph"
   ]
  },
  {
   "cell_type": "markdown",
   "metadata": {},
   "source": [
    "It can be seen from Decision Tree, to reach the leaf node with highest converstion rate, the path is\n",
    "\n",
    "1). source_friend_referral = True, \n",
    "\n",
    "2). price<49, \n",
    "\n",
    "3). operative_system_ios=True."
   ]
  },
  {
   "cell_type": "code",
   "execution_count": 72,
   "metadata": {},
   "outputs": [
    {
     "data": {
      "text/plain": [
       "source_friend_referral      0.581165\n",
       "operative_system_iOS        0.136965\n",
       "operative_system_mac        0.093429\n",
       "source_direct_traffic       0.059473\n",
       "source_ads_facebook         0.041326\n",
       "source_ads-google           0.038754\n",
       "price                       0.020501\n",
       "operative_system_linux      0.017944\n",
       "source_ads-bing             0.010442\n",
       "source_ads-yahoo            0.000000\n",
       "operative_system_windows    0.000000\n",
       "source_seo-bing             0.000000\n",
       "source_seo-other            0.000000\n",
       "source_seo-yahoo            0.000000\n",
       "source_seo_facebook         0.000000\n",
       "device_mobile               0.000000\n",
       "operative_system_android    0.000000\n",
       "source_seo-google           0.000000\n",
       "dtype: float64"
      ]
     },
     "execution_count": 72,
     "metadata": {},
     "output_type": "execute_result"
    }
   ],
   "source": [
    "# check feature imporatance using sklean in built function\n",
    "pd.Series(dt.feature_importances_,index = xtrain.columns).sort_values(ascending = False)"
   ]
  },
  {
   "cell_type": "markdown",
   "metadata": {},
   "source": [
    "<a id='act'></a>\n",
    "### Actionable Insights"
   ]
  },
  {
   "cell_type": "markdown",
   "metadata": {},
   "source": [
    "1.  'price' and 'operative_system' are two main genearal factors which impact converted more. And higher price showed lower conversion rate compared with that of lower price. This makes sense since there are relatively fewer people to buy products with higher price.\n",
    "\n",
    "\n",
    "2. Mac and iOS has higher conversion rate compared with those using other operative system. Since all the users are in Amercia and people in American perfer to products from Apple, so we can increase the ad appeared on mac and iphone and launch special marketing progream targeted to Apple users.\n",
    "\n",
    "\n",
    "3. Linux User showed the lowest conversion rate. Development team should find out the reason. For example, if is there any incompatibility issue on Linux? Is the propaganda that software works well in Linux not enough? \n",
    "\n",
    "\n",
    "4. Friend_referral,apple user(Mac and iOS), low price are main detailed positive factors that improve the conversion rate. If you want to increase the price, we must compensate on the other two factors. For example, rewards user who invite his/her friend to use the software."
   ]
  },
  {
   "cell_type": "code",
   "execution_count": 4,
   "metadata": {},
   "outputs": [
    {
     "data": {
      "text/plain": [
       "operative_system        \n",
       "android           657407    0.000013\n",
       "                  664337    0.000013\n",
       "                  856823    0.000013\n",
       "                  357115    0.000013\n",
       "                  436992    0.000013\n",
       "                              ...   \n",
       "windows           281672    0.000010\n",
       "                  397332    0.000010\n",
       "                  946200    0.000010\n",
       "                  813285    0.000010\n",
       "                  266242    0.000010\n",
       "Name: user_id, Length: 316800, dtype: float64"
      ]
     },
     "execution_count": 4,
     "metadata": {},
     "output_type": "execute_result"
    }
   ],
   "source": [
    "test.groupby('operative_system')['user_id'].apply(lambda a:a.value_counts(normalize = True))\n"
   ]
  },
  {
   "cell_type": "code",
   "execution_count": 5,
   "metadata": {},
   "outputs": [
    {
     "data": {
      "text/plain": [
       "windows    100976\n",
       "iOS         95465\n",
       "android     74935\n",
       "mac         25085\n",
       "other       16204\n",
       "linux        4135\n",
       "Name: operative_system, dtype: int64"
      ]
     },
     "execution_count": 5,
     "metadata": {},
     "output_type": "execute_result"
    }
   ],
   "source": [
    "test['operative_system'].value_counts()"
   ]
  },
  {
   "cell_type": "code",
   "execution_count": null,
   "metadata": {},
   "outputs": [],
   "source": []
  }
 ],
 "metadata": {
  "kernelspec": {
   "display_name": "Python 3",
   "language": "python",
   "name": "python3"
  },
  "language_info": {
   "codemirror_mode": {
    "name": "ipython",
    "version": 3
   },
   "file_extension": ".py",
   "mimetype": "text/x-python",
   "name": "python",
   "nbconvert_exporter": "python",
   "pygments_lexer": "ipython3",
   "version": "3.8.3"
  }
 },
 "nbformat": 4,
 "nbformat_minor": 4
}
